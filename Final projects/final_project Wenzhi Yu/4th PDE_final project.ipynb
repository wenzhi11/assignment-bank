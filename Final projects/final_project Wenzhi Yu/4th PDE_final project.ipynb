{
 "metadata": {
  "name": "",
  "signature": "sha256:b5690768ee557d71d79dc01b62383c74b426709b7bd1250eb97c126950aa0349"
 },
 "nbformat": 3,
 "nbformat_minor": 0,
 "worksheets": [
  {
   "cells": [
    {
     "cell_type": "heading",
     "level": 6,
     "metadata": {},
     "source": [
      "Content is licensed under a Creative Commons Attribution 4.0 International License, code under MIT license (c)2014 Wenzhi Yu"
     ]
    },
    {
     "cell_type": "heading",
     "level": 1,
     "metadata": {},
     "source": [
      "Bending materials & 4th Order PDE"
     ]
    },
    {
     "cell_type": "heading",
     "level": 2,
     "metadata": {},
     "source": [
      "Euler-Bernoulli Beam"
     ]
    },
    {
     "cell_type": "markdown",
     "metadata": {},
     "source": [
      "Welcome! We are going to solve a virbration problem in strucduere design. We will find bending deflection of a beam with respect to time after a initial condition is applied.\n",
      "\n",
      "First, let's look at the picture below."
     ]
    },
    {
     "cell_type": "markdown",
     "metadata": {},
     "source": [
      "![Image](beam_forced.jpg)"
     ]
    },
    {
     "cell_type": "markdown",
     "metadata": {},
     "source": [
      "This beam is called Euler-Bernoulli Beam. Leonhard Euler and Daniel Bernoulli were the first to put together a useful theory circa 1750. At the time, science and engineering were generally seen as very distinct fields, and there was considerable doubt that a mathematical product of academia could be trusted for practical safety applications. Bridges and buildings continued to be designed by precedent until the late 19th century, when the Eiffel Tower and Ferris wheel demonstrated the validity of the theory on large scales. Following these successful demonstrations, it quickly became a cornerstone of engineering and an enabler of the Second Industrial Revolution.\n",
      "\n",
      "Now, Let's look at this famous equation!"
     ]
    },
    {
     "cell_type": "markdown",
     "metadata": {},
     "source": [
      "\\begin{equation}\\frac{\\partial^2 w(x,t)}{\\partial t^2} + \\frac{E I}{\\rho A} \\frac{\\partial^4 w(x,t)}{\\partial x^4} = 0\\end{equation}"
     ]
    },
    {
     "cell_type": "markdown",
     "metadata": {},
     "source": [
      "This is a fourth-order in space and second order in time equation. It's different from what we have done before. It is only one dimension."
     ]
    },
    {
     "cell_type": "markdown",
     "metadata": {},
     "source": [
      "In our equation, there are some constnst valuses: Young's Modulus of Elasticity $E$ ($N/m^2$), area moment of inertia $I$ ($m^4$), density $\\rho$ ($kg/m^3$), cross-sectional area $A$ ($m^2$)."
     ]
    },
    {
     "cell_type": "markdown",
     "metadata": {},
     "source": [
      "The lenght of beam is $L$ ($m$). The $w$($x$,$t$) is the result whith respect to time and position."
     ]
    },
    {
     "cell_type": "heading",
     "level": 2,
     "metadata": {},
     "source": [
      "Discretizing our model equation and CFL!"
     ]
    },
    {
     "cell_type": "markdown",
     "metadata": {},
     "source": [
      "Remember this is a fourth-order equation."
     ]
    },
    {
     "cell_type": "markdown",
     "metadata": {},
     "source": [
      "\\begin{equation}\\ w_{i+2} = \\ w_i + 2\\Delta x \\frac{\\partial \\ w}{\\partial x}\\big|_i + 4\\frac{\\Delta x^2}{2} \\frac{\\partial ^2w}{\\partial x^2}\\big|_i + 8\\frac{\\Delta x^3}{3} \\frac{\\partial ^3 w}{\\partial x^3}\\big|_i + 16\\frac{\\Delta x^4}{24}\\frac{\\partial^4 w(x,t)}{\\partial x^4}\\big|_i + 32\\frac{\\Delta x^5}{120}\\frac{\\partial^5 w(x,t)}{\\partial x^5}\\big|_i + {\\mathcal O}(\\Delta x^6)\\end{equation}"
     ]
    },
    {
     "cell_type": "markdown",
     "metadata": {},
     "source": [
      "\\begin{equation}\\ w_{i+1} = \\ w_i + \\Delta x \\frac{\\partial \\ w}{\\partial x}\\big|_i + \\frac{\\Delta x^2}{2} \\frac{\\partial ^2w}{\\partial x^2}\\big|_i + \\frac{\\Delta x^3}{3} \\frac{\\partial ^3 w}{\\partial x^3}\\big|_i + \\frac{\\Delta x^4}{24}\\frac{\\partial^4 w(x,t)}{\\partial x^4}\\big|_i + \\frac{\\Delta x^5}{120}\\frac{\\partial^5 w(x,t)}{\\partial x^5}\\big|_i +{\\mathcal O}(\\Delta x^6)\\end{equation}"
     ]
    },
    {
     "cell_type": "markdown",
     "metadata": {},
     "source": [
      "\\begin{equation}\\ w_{i} = \\ w_i \\end{equation}"
     ]
    },
    {
     "cell_type": "markdown",
     "metadata": {},
     "source": [
      "\\begin{equation}\\ w_{i-1} = \\ w_i - \\Delta x \\frac{\\partial \\ w}{\\partial x}\\big|_i + \\frac{\\Delta x^2}{2} \\frac{\\partial ^2w}{\\partial x^2}\\big|_i - \\frac{\\Delta x^3}{3} \\frac{\\partial ^3 w}{\\partial x^3}\\big|_i + \\frac{\\Delta x^4}{24}\\frac{\\partial^4 w(x,t)}{\\partial x^4}\\big|_i -\\frac{\\Delta x^5}{120}\\frac{\\partial^5 w(x,t)}{\\partial x^5}\\big|_i+{\\mathcal O}(\\Delta x^6)\\end{equation}"
     ]
    },
    {
     "cell_type": "markdown",
     "metadata": {},
     "source": [
      "\\begin{equation}\\ w_{i-2} = \\ w_i - 2\\Delta x \\frac{\\partial \\ w}{\\partial x}\\big|_i + 4\\frac{\\Delta x^2}{2} \\frac{\\partial ^2w}{\\partial x^2}\\big|_i - 8\\frac{\\Delta x^3}{3} \\frac{\\partial ^3 w}{\\partial x^3}\\big|_i + 16\\frac{\\Delta x^4}{24}\\frac{\\partial^4 w(x,t)}{\\partial x^4}\\big|_i - 32\\frac{\\Delta x^5}{120}\\frac{\\partial^5 w(x,t)}{\\partial x^5}\\big|_i+{\\mathcal O}(\\Delta x^6)\\end{equation}"
     ]
    },
    {
     "cell_type": "markdown",
     "metadata": {},
     "source": [
      "Now, we can find $\\frac{\\partial^4 w(x,t)}{\\partial x^4}$ by canceling terms. \n",
      "\n",
      "The result is:"
     ]
    },
    {
     "cell_type": "markdown",
     "metadata": {},
     "source": [
      "\\begin{equation}\\frac{\\partial^4 w(x,t)}{\\partial x^4}=\\frac{w_{i+2}^n - 4w_{i+1}^n + 6w_{i}^n - 4w_{i-1}^n + w_{i-2}^n}{\\Delta x^4}+{\\mathcal O}(\\Delta x^2)\\end{equation}"
     ]
    },
    {
     "cell_type": "markdown",
     "metadata": {},
     "source": [
      "Also, we can find the discretizing of time by using similar method:"
     ]
    },
    {
     "cell_type": "markdown",
     "metadata": {},
     "source": [
      "\\begin{equation}\\frac{\\partial ^2 w_i^n}{\\partial t^2}=\\frac{w_i^{n+1}-2 w_i^{n}+w_i^{n-1}}{\\Delta t^2} + {\\mathcal O}(\\Delta t^2)\\end{equation}"
     ]
    },
    {
     "cell_type": "markdown",
     "metadata": {},
     "source": [
      "Let's go back to Euler-Bernoulli Equation and Substitute the discretization above,  we will get the scheme:"
     ]
    },
    {
     "cell_type": "markdown",
     "metadata": {},
     "source": [
      "\\begin{equation}\\frac{w_i^{n+1} - 2w_{i}^n + w_{i}^{n-1}}{\\Delta t^2} = -\\frac{E I}{\\rho A}\\frac{(w_{i+2}^n - 4w_{i+1}^n + 6w_{i}^n - 4w_{i-1}^n + w_{i-2}^n)}{\\Delta x^4} \\end{equation}"
     ]
    },
    {
     "cell_type": "markdown",
     "metadata": {},
     "source": [
      "Rearrange this equation, we get:"
     ]
    },
    {
     "cell_type": "markdown",
     "metadata": {},
     "source": [
      "\\begin{equation} w_i^{n+1} =  -\\frac{E I\\Delta t^2}{\\rho A \\Delta x^4 }(w_{i+2}^n - 4w_{i+1}^n + 6w_{i}^n - 4w_{i-1}^n + w_{i-2}^n)  + 2w_{i}^n - w_{i}^{n-1}\\end{equation}"
     ]
    },
    {
     "cell_type": "markdown",
     "metadata": {},
     "source": [
      "Look at our scheme and discretization again. It is a central difference in time and central difference in space. Do you notice the term of ${\\mathcal O}(\\Delta t^2)$? Yes, this is a second order accurate scheme."
     ]
    },
    {
     "cell_type": "heading",
     "level": 3,
     "metadata": {},
     "source": [
      "CFL condition "
     ]
    },
    {
     "cell_type": "markdown",
     "metadata": {},
     "source": [
      "Never to forget the CFL. It's very important in numerical simulation. In this case,according to John Strikwerda's book, the CFL condition is as following:"
     ]
    },
    {
     "cell_type": "markdown",
     "metadata": {},
     "source": [
      "\\begin{equation}\\frac{E I\\Delta t^2}{\\rho A \\Delta x^4 } \\le 0.5\\end{equation}"
     ]
    },
    {
     "cell_type": "heading",
     "level": 2,
     "metadata": {},
     "source": [
      "Initial and boundary condition"
     ]
    },
    {
     "cell_type": "code",
     "collapsed": false,
     "input": [
      "import numpy \n",
      "import matplotlib.pyplot as plt\n",
      "import math\n",
      "%matplotlib inline\n",
      "from matplotlib import rcParams\n",
      "rcParams['font.family'] = 'serif'\n",
      "rcParams['font.size'] = 16\n",
      "from JSAnimation.IPython_display import display_animation\n",
      "from matplotlib import animation"
     ],
     "language": "python",
     "metadata": {},
     "outputs": [],
     "prompt_number": 2
    },
    {
     "cell_type": "heading",
     "level": 3,
     "metadata": {},
     "source": [
      "Initial condition"
     ]
    },
    {
     "cell_type": "markdown",
     "metadata": {},
     "source": [
      "Here we assume a square beam. One side of the beam is clamped and the other side is free end. A force is applied at the free end. Therefore, displacement will be induced along the beam. The beam is released at t=0. We will simulate the vibration of the beam. "
     ]
    },
    {
     "cell_type": "code",
     "collapsed": false,
     "input": [
      "nx = 80                      #number of points along the beam\n",
      "rho = 8000.                  #density of steel (kg/m^3)\n",
      "a = 0.05                     #side length of the beam (m)\n",
      "I = a**4/12                  #Area moment of inertia (m^4)\n",
      "E = 200.*(10.**9)            #Young's Modulus for steel (N/m^2) or (Pa) \n",
      "A = a**2                     #Cross-Sectional Area of the circular beam (m^2)\n",
      "b = numpy.sqrt((E*I)/(rho*A))#redefine the coefficient as b^2\n",
      "F = 100                      #assusmed forece applied at beam (N)   \n",
      "\n",
      "sigma = .20;                 #CFL condition \n",
      "\n",
      "L = 2.0                      #Length of the rod (m)\n",
      "dx = (L/(nx))                #size of spatial step\n",
      "dt = (sigma*(dx)**2)/b       #size of timestep, with CFL defensively coded in\n",
      "nt = 1000                    #number of time steps\n",
      "totaltime = dt*nt            #how long (s) we are running the simulation"
     ],
     "language": "python",
     "metadata": {},
     "outputs": [],
     "prompt_number": 3
    },
    {
     "cell_type": "markdown",
     "metadata": {},
     "source": [
      "We assume the applied force is F=10N, then the initial condition of beam can be calculated by the equation given below:"
     ]
    },
    {
     "cell_type": "markdown",
     "metadata": {},
     "source": [
      "\\begin{equation}\\ w(x,0) = \\frac{F x^2}{6 E I}(3L-x)\\end{equation}"
     ]
    },
    {
     "cell_type": "markdown",
     "metadata": {},
     "source": [
      "\\begin{equation}\\frac{\\partial w(x,0)}{\\partial t} = 0 \\end{equation} "
     ]
    },
    {
     "cell_type": "code",
     "collapsed": false,
     "input": [
      "# initial conditions\n",
      " \n",
      "x = numpy.linspace(0.0,2.0,nx)   # discritize x into nx points.\n",
      "w0 = -F*x**2/(6*E*I)*(3*L-x)     # calculate displacement with respect ot different x points.\n",
      "w0_dot =numpy.zeros(nx)          # intial velocity is zero.\n",
      "\n",
      "# Plot  initial condition\n",
      "\n",
      "plt.xlim(0.0,2.0)\n",
      "plt.ylim(-0.004,0.004)\n",
      "plt.plot(x,w0)\n",
      "plt.xlabel('Length (m)', fontsize=14)\n",
      "plt.ylabel('Deflection in x-direction (m)', fontsize=14)\n",
      "plt.grid(True)\n",
      "plt.title('Initial Beam Displacement', fontsize=16);\n"
     ],
     "language": "python",
     "metadata": {},
     "outputs": [
      {
       "metadata": {},
       "output_type": "display_data",
       "png": "[encoded data removed]",
       "text": [
        "<matplotlib.figure.Figure at 0x3e3fbe0>"
       ]
      }
     ],
     "prompt_number": 4
    },
    {
     "cell_type": "markdown",
     "metadata": {},
     "source": [
      "Attention!!!  We have not finished initial condition yet. \n",
      "\n",
      "\n",
      "Remember "
     ]
    },
    {
     "cell_type": "markdown",
     "metadata": {},
     "source": [
      "\\begin{equation} w_i^{n+1} =  -\\frac{E I\\Delta t^2}{\\rho A \\Delta x^4 }(w_{i+2}^n - 4w_{i+1}^n + 6w_{i}^n - 4w_{i-1}^n + w_{i-2}^n)  + 2w_{i}^n - w_{i}^{n-1}\\end{equation}"
     ]
    },
    {
     "cell_type": "markdown",
     "metadata": {},
     "source": [
      "To calculate $w_i^{n+1}$, we need to find $w_i^{n-1}$. So before the calculation start, first step value needs to be calculated. Then, we can use initial condition and first step to calculate second step, and so on."
     ]
    },
    {
     "cell_type": "markdown",
     "metadata": {},
     "source": [
      "Use Taylor Series Expansion, we can find  \n",
      "\n",
      "\\begin{equation}w(x,\\Delta t) = w(x,0) + \\Delta t \\frac{\\partial w(x,0)}{\\partial t} + \\frac{1}{2}\\Delta t^2 \\frac{\\partial^2w(x,0)}{\\partial t^2} + O(\\Delta t^3) \\end{equation}\n",
      "\n",
      "\n",
      "\\begin{equation}\\frac{\\partial w(x,0)}{\\partial t} (initial \\ speed\\ equal\\ to\\ 0)\\end{equation} "
     ]
    },
    {
     "cell_type": "markdown",
     "metadata": {},
     "source": [
      "and \\begin{equation}\\frac{\\partial^2w(x,0)}{\\partial t^2} = -\\frac{E I}{\\rho A} \\frac{\\partial^4 w(x,0)}{\\partial x^4} \\end{equation}"
     ]
    },
    {
     "cell_type": "markdown",
     "metadata": {},
     "source": [
      "Good. We can find first step through this expansion."
     ]
    },
    {
     "cell_type": "code",
     "collapsed": false,
     "input": [
      "def  GFS(w0):\n",
      "    \"\"\"\n",
      "    Generate first step for numerical simulation\n",
      "\n",
      "    Paremeters:\n",
      "    -----------\n",
      "    w0   initial position\n",
      "    \n",
      "    return:\n",
      "    ----------\n",
      "    w1   first step position\n",
      " \n",
      "    \"\"\"\n",
      "    w_ini = w0.copy\n",
      "    w1 = w_ini\n",
      "    w1[2:-2] = w_ini[2:-2]+0.5*dt**2*(-E*I/(rho*A))/dx**4*(w_ini[4:]-4*w_ini[1:-3]+6*w_ini[2:-2]-4*w_ini[3:-1]+w_ini[:-4])\n",
      "    return w1"
     ],
     "language": "python",
     "metadata": {},
     "outputs": [],
     "prompt_number": 19
    },
    {
     "cell_type": "heading",
     "level": 3,
     "metadata": {},
     "source": [
      "Boundary condition"
     ]
    },
    {
     "cell_type": "markdown",
     "metadata": {},
     "source": [
      "The left side is fixed, so we can use Dirichlet BC (remember we talked about this on Spreading out: Parabolic PDEs). This   means "
     ]
    },
    {
     "cell_type": "markdown",
     "metadata": {},
     "source": [
      "\\begin{equation}\\ w(0,t) = 0 \\end{equation}"
     ]
    },
    {
     "cell_type": "markdown",
     "metadata": {},
     "source": [
      "The right side is free, we can not use Dirchlet BC. By using Neumann boundary, w [ -1 ]= w [ -2 ]= w [ -3 ]. we use a mixed boundary.\n",
      "\n",
      "Remember  \" Dirichlet and Neumann BCs can sometimes be mixed to better represent the physics of a problem.\""
     ]
    },
    {
     "cell_type": "heading",
     "level": 2,
     "metadata": {},
     "source": [
      "Solve the problem!"
     ]
    },
    {
     "cell_type": "markdown",
     "metadata": {},
     "source": [
      "Code time! We have got the discretization equation, CFL condition, the initial condition and boundary boundary condition. Now let's define our simulation function. "
     ]
    },
    {
     "cell_type": "code",
     "collapsed": false,
     "input": [
      "def EBB(E, I, rho, A, dt, dx, w0, w1):\n",
      "    \"\"\"Solves the Euler-Bernoulli beam equation with second-order central \n",
      "    second difference in time and second-order central fourth difference in space.\n",
      "    \n",
      "    Paremeters:\n",
      "    ----------\n",
      "    E:    float\n",
      "          Young's Modulus for steel \n",
      "    \n",
      "    I:    float\n",
      "          Area moment of inertia \n",
      "    \n",
      "    rho:  float\n",
      "          density of steel \n",
      "    \n",
      "    A:    float\n",
      "          Cross-Sectional Area of the circular beam \n",
      "    \n",
      "    dt:   float \n",
      "          time step size\n",
      "    \n",
      "    dx:   float\n",
      "          mesh size\n",
      "        \n",
      "    w0:   array of float\n",
      "          initial position\n",
      "    \n",
      "    w1:   array of float\n",
      "          position after the first step of the calculation \n",
      "        \n",
      "    Returns:\n",
      "    -------\n",
      "    w:  array of float\n",
      "        Position of center of beam for dx spatial steps in nt steps in time\n",
      "        \n",
      "    \"\"\"\n",
      "    #Initialization\n",
      "    \n",
      "    w = numpy.zeros((nt,nx))\n",
      "    w[0,:] = w0.copy()\n",
      "    w[1,:] = w1.copy()\n",
      "    wn = w1.copy()\n",
      "    wl = w0.copy()\n",
      "    \n",
      "    for i in range(2,nt):\n",
      "        w[i,2:-2] = (-E*I/(rho*A))*(dt**2/dx**4)*(wn[:-4]-4*wn[1:-3]+6*wn[2:-2]-4*wn[3:-1]+wn[4:])+wn[2:-2]-wl[2:-2]\n",
      "        w[i,0] = 0\n",
      "        w[i,1] = 0\n",
      "        w[i,2] = 0\n",
      "        w[i,-1] = w[i,-3]\n",
      "        w[i,-2] = w[i,-3]\n",
      "         \n",
      "        wl = wn\n",
      "        wn = w[i,:]\n",
      "                              \n",
      "    return w\n",
      "    \n",
      "        "
     ],
     "language": "python",
     "metadata": {},
     "outputs": [],
     "prompt_number": 21
    },
    {
     "cell_type": "markdown",
     "metadata": {},
     "source": [
      "Now we are going to find $w$($x$,$t$) and generate animation"
     ]
    },
    {
     "cell_type": "code",
     "collapsed": false,
     "input": [
      "w1= GFS(w0)  \n",
      "w=EBB(E, I, rho, A, dt, dx, w0, w1)"
     ],
     "language": "python",
     "metadata": {},
     "outputs": []
    },
    {
     "cell_type": "code",
     "collapsed": false,
     "input": [
      "fig = plt.figure(figsize=(8,6))\n",
      "ax = plt.axes(xlim=(0,2),ylim=(-0.004,0.004),xlabel=('beam Length'),ylabel=('Displacement'),title = ('Clamped-Free Beam'));\n",
      "line, = ax.plot([],[],color='#003366', lw=2);\n",
      "\n",
      "def animate(frame):\n",
      "    x = numpy.linspace(0,L,nx)\n",
      "    y = theta[frame,:]\n",
      "    line.set_data(x,y)\n",
      "    return line,\n",
      "anim = animation.FuncAnimation(fig, animate, frames=nt-1, interval=50)\n",
      "display_animation(anim, default_mode='once')"
     ],
     "language": "python",
     "metadata": {},
     "outputs": []
    },
    {
     "cell_type": "markdown",
     "metadata": {},
     "source": [
      "The beam vibrates just as we think. But it is a little different from actual situation. It vibrates at a same amplitude. That because there is no damping in this system, so no energy lost. The beam will keep vibrating forever."
     ]
    },
    {
     "cell_type": "heading",
     "level": 2,
     "metadata": {},
     "source": [
      "Dig deeper"
     ]
    },
    {
     "cell_type": "markdown",
     "metadata": {},
     "source": [
      "We have studied unforced vibration. But if a periodic force is applied at the end of the beam, how the beam is going to act? Can you simulate this situation?  \n",
      "Also, can you apply implicit scheme to solve this problem?\n"
     ]
    },
    {
     "cell_type": "heading",
     "level": 2,
     "metadata": {},
     "source": [
      "Reference"
     ]
    },
    {
     "cell_type": "markdown",
     "metadata": {},
     "source": [
      "1. Barba, Lorena A., et al. \"MAE 6286 Practical Numerical Methods with Python,\" GW Open edX, The George Washingtion                University, 2014. http://openedx.seas.gwu.edu/courses/GW/MAE6286/2014_fall/about .\n",
      "\n",
      "2. Finite Difference Schemes and Partial Differential Equations By John Strikwerda.\n",
      "\n",
      "3. Adam Wickenheiser(2014), \"MAE 6257 THEORY OF VIBRATION\", Notebook, The George Washingtion University."
     ]
    },
    {
     "cell_type": "code",
     "collapsed": false,
     "input": [
      "from IPython.core.display import HTML\n",
      "css_file = '../../styles/numericalmoocstyle.css'\n",
      "HTML(open(css_file, \"r\").read())"
     ],
     "language": "python",
     "metadata": {},
     "outputs": []
    }
   ],
   "metadata": {}
  }
 ]
}